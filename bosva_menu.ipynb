{
 "cells": [
  {
   "cell_type": "code",
   "execution_count": 1,
   "metadata": {},
   "outputs": [],
   "source": [
    "import requests\n",
    "from bs4 import BeautifulSoup\n",
    "from datetime import datetime\n",
    "import pymysql\n",
    "import itertools\n",
    "import re"
   ]
  },
  {
   "cell_type": "code",
   "execution_count": null,
   "metadata": {},
   "outputs": [],
   "source": [
    "url = 'http://www.bosva.cn/'"
   ]
  },
  {
   "cell_type": "code",
   "execution_count": 8,
   "metadata": {},
   "outputs": [],
   "source": [
    "def log(log, file):\n",
    "    with open(file, 'a', encoding='utf8') as f:\n",
    "        print('[' + datetime.now().strftime('%Y-%m-%d %H:%M:%S') + ']' + log, file=f)"
   ]
  },
  {
   "cell_type": "code",
   "execution_count": 3,
   "metadata": {},
   "outputs": [],
   "source": [
    "def load_html(url):\n",
    "    r = requests.get(url)\n",
    "    html = r.content\n",
    "    soup = BeautifulSoup(html, \"html.parser\")\n",
    "    weekly_menu = soup.find('div', attrs={'id':'hmtab1'})\n",
    "    cells = weekly_menu.find_all('p', 'edt')\n",
    "    \n",
    "    date_pat = re.compile('\\d{4}-\\d{1,2}-\\d{1,2}')\n",
    "    date = []\n",
    "    breakfast = [] # 早点\n",
    "    lunch = [] # 午餐\n",
    "    snack = [] # 午点\n",
    "    nutrition = [] # 体弱儿营养菜\n",
    "    comment = [] # 菜品冒号后面的内容\n",
    "    for i,p in enumerate(cells):\n",
    "        if i < 5: # 日期\n",
    "            for string in p.stripped_strings:\n",
    "                match = date_pat.match(string)\n",
    "                if match:\n",
    "                    date.append(datetime.strptime(string, '%Y-%m-%d'))\n",
    "        elif i < 10: # 早点\n",
    "            breakfast.append([string for string in p.stripped_strings])\n",
    "        elif i < 15: # 午餐\n",
    "            lunch.append([string for string in p.stripped_strings])\n",
    "        elif i < 20: # 午点\n",
    "            snack.append([string for string in p.stripped_strings])\n",
    "        elif i < 25: # 体弱儿营养菜\n",
    "            nutrition.append([string for string in p.stripped_strings])\n",
    "        else:\n",
    "            week = p.string\n",
    "    \n",
    "    row = ([week, i, '早点', j, ''] if '：' not in j else\n",
    "       [week, i, '早点', j.split('：')[0], j.split('：')[1]] \n",
    "       for i in date for j in breakfast[date.index(i)])\n",
    "    row = itertools.chain(row, ([week, i, '午餐', j, ''] if '：' not in j else\n",
    "                                [week, i, '午餐', j.split('：')[0], j.split('：')[1]]\n",
    "                                for i in date for j in lunch[date.index(i)]))\n",
    "    row = itertools.chain(row, ([week, i, '午点', j, ''] if '：' not in j else\n",
    "                                [week, i, '午点', j.split('：')[0], j.split('：')[1]]\n",
    "                                for i in date for j in snack[date.index(i)]))\n",
    "    row = itertools.chain(row, ([week, i, '体弱儿营养菜', j, ''] if '：' not in j else\n",
    "                                [week, i, '体弱儿营养菜', j.split('：')[0], j.split('：')[1]]\n",
    "                                for i in date for j in pymysql.connectnutrition[date.index(i)]))\n",
    "    \n",
    "    return row"
   ]
  },
  {
   "cell_type": "code",
   "execution_count": 14,
   "metadata": {},
   "outputs": [],
   "source": [
    "def db_connect(host='localhost', user='root', password='ZJZAnAn4ever', db='test', charset='utf8'): # password='mysql'\n",
    "    try:\n",
    "        return pymysql.connect(host=host,\n",
    "                             user=user,\n",
    "                             password=password,\n",
    "                             db=db,\n",
    "                             charset=charset,\n",
    "                             cursorclass=pymysql.cursors.DictCursor)\n",
    "    except Exception as e:\n",
    "        print(e)\n",
    "        conn.close()\n",
    "        \n",
    "def to_database(row, conn):\n",
    "    '''\n",
    "    写入数据库\n",
    "    '''\n",
    "    with conn.cursor() as cur:\n",
    "        insert_sql = '''insert ignore into kinder_foods values (%s,%s,%s,%s,%s)'''\n",
    "        rows_affected = cur.executemany(insert_sql, row)\n",
    "        conn.commit()\n",
    "    return rows_affected"
   ]
  },
  {
   "cell_type": "code",
   "execution_count": 15,
   "metadata": {},
   "outputs": [
    {
     "name": "stderr",
     "output_type": "stream",
     "text": [
      "C:\\Anaconda2\\envs\\py36\\lib\\site-packages\\pymysql\\cursors.py:329: Warning: (1062, \"Duplicate entry '2019-02-11 00:00:00-早点-...' for key 'date_food_diet_unique'\")\n",
      "  self._do_get_result()\n",
      "C:\\Anaconda2\\envs\\py36\\lib\\site-packages\\pymysql\\cursors.py:329: Warning: (1062, \"Duplicate entry '2019-02-12 00:00:00-早点-...' for key 'date_food_diet_unique'\")\n",
      "  self._do_get_result()\n",
      "C:\\Anaconda2\\envs\\py36\\lib\\site-packages\\pymysql\\cursors.py:329: Warning: (1062, \"Duplicate entry '2019-02-13 00:00:00-早点-...' for key 'date_food_diet_unique'\")\n",
      "  self._do_get_result()\n",
      "C:\\Anaconda2\\envs\\py36\\lib\\site-packages\\pymysql\\cursors.py:329: Warning: (1062, \"Duplicate entry '2019-02-14 00:00:00-早点-牛奶' for key 'date_food_diet_unique'\")\n",
      "  self._do_get_result()\n",
      "C:\\Anaconda2\\envs\\py36\\lib\\site-packages\\pymysql\\cursors.py:329: Warning: (1062, \"Duplicate entry '2019-02-14 00:00:00-早点-窝窝头' for key 'date_food_diet_unique'\")\n",
      "  self._do_get_result()\n",
      "C:\\Anaconda2\\envs\\py36\\lib\\site-packages\\pymysql\\cursors.py:329: Warning: (1062, \"Duplicate entry '2019-02-15 00:00:00-早点-牛奶' for key 'date_food_diet_unique'\")\n",
      "  self._do_get_result()\n",
      "C:\\Anaconda2\\envs\\py36\\lib\\site-packages\\pymysql\\cursors.py:329: Warning: (1062, \"Duplicate entry '2019-02-15 00:00:00-早点-鹌鹑蛋' for key 'date_food_diet_unique'\")\n",
      "  self._do_get_result()\n",
      "C:\\Anaconda2\\envs\\py36\\lib\\site-packages\\pymysql\\cursors.py:329: Warning: (1062, \"Duplicate entry '2019-02-11 00:00:00-午餐-...' for key 'date_food_diet_unique'\")\n",
      "  self._do_get_result()\n",
      "C:\\Anaconda2\\envs\\py36\\lib\\site-packages\\pymysql\\cursors.py:329: Warning: (1062, \"Duplicate entry '2019-02-12 00:00:00-午餐-...' for key 'date_food_diet_unique'\")\n",
      "  self._do_get_result()\n",
      "C:\\Anaconda2\\envs\\py36\\lib\\site-packages\\pymysql\\cursors.py:329: Warning: (1062, \"Duplicate entry '2019-02-13 00:00:00-午餐-...' for key 'date_food_diet_unique'\")\n",
      "  self._do_get_result()\n",
      "C:\\Anaconda2\\envs\\py36\\lib\\site-packages\\pymysql\\cursors.py:329: Warning: (1062, \"Duplicate entry '2019-02-14 00:00:00-午餐-五彩面条' for key 'date_food_diet_unique'\")\n",
      "  self._do_get_result()\n",
      "C:\\Anaconda2\\envs\\py36\\lib\\site-packages\\pymysql\\cursors.py:329: Warning: (1062, \"Duplicate entry '2019-02-14 00:00:00-午餐-原味鸡块' for key 'date_food_diet_unique'\")\n",
      "  self._do_get_result()\n",
      "C:\\Anaconda2\\envs\\py36\\lib\\site-packages\\pymysql\\cursors.py:329: Warning: (1062, \"Duplicate entry '2019-02-14 00:00:00-午餐-血糯米核桃甜饭' for key 'date_food_diet_unique'\")\n",
      "  self._do_get_result()\n",
      "C:\\Anaconda2\\envs\\py36\\lib\\site-packages\\pymysql\\cursors.py:329: Warning: (1062, \"Duplicate entry '2019-02-15 00:00:00-午餐-番茄虾仁蛋炒饭' for key 'date_food_diet_unique'\")\n",
      "  self._do_get_result()\n",
      "C:\\Anaconda2\\envs\\py36\\lib\\site-packages\\pymysql\\cursors.py:329: Warning: (1062, \"Duplicate entry '2019-02-15 00:00:00-午餐-枸杞木耳鸽子汤' for key 'date_food_diet_unique'\")\n",
      "  self._do_get_result()\n",
      "C:\\Anaconda2\\envs\\py36\\lib\\site-packages\\pymysql\\cursors.py:329: Warning: (1062, \"Duplicate entry '2019-02-15 00:00:00-午餐-豆沙包' for key 'date_food_diet_unique'\")\n",
      "  self._do_get_result()\n",
      "C:\\Anaconda2\\envs\\py36\\lib\\site-packages\\pymysql\\cursors.py:329: Warning: (1062, \"Duplicate entry '2019-02-11 00:00:00-午点-...' for key 'date_food_diet_unique'\")\n",
      "  self._do_get_result()\n",
      "C:\\Anaconda2\\envs\\py36\\lib\\site-packages\\pymysql\\cursors.py:329: Warning: (1062, \"Duplicate entry '2019-02-12 00:00:00-午点-...' for key 'date_food_diet_unique'\")\n",
      "  self._do_get_result()\n",
      "C:\\Anaconda2\\envs\\py36\\lib\\site-packages\\pymysql\\cursors.py:329: Warning: (1062, \"Duplicate entry '2019-02-13 00:00:00-午点-...' for key 'date_food_diet_unique'\")\n",
      "  self._do_get_result()\n",
      "C:\\Anaconda2\\envs\\py36\\lib\\site-packages\\pymysql\\cursors.py:329: Warning: (1062, \"Duplicate entry '2019-02-14 00:00:00-午点-五谷杂粮粥' for key 'date_food_diet_unique'\")\n",
      "  self._do_get_result()\n",
      "C:\\Anaconda2\\envs\\py36\\lib\\site-packages\\pymysql\\cursors.py:329: Warning: (1062, \"Duplicate entry '2019-02-14 00:00:00-午点-蜜汁香干' for key 'date_food_diet_unique'\")\n",
      "  self._do_get_result()\n",
      "C:\\Anaconda2\\envs\\py36\\lib\\site-packages\\pymysql\\cursors.py:329: Warning: (1062, \"Duplicate entry '2019-02-15 00:00:00-午点-菜肉仙贝面疙瘩' for key 'date_food_diet_unique'\")\n",
      "  self._do_get_result()\n",
      "C:\\Anaconda2\\envs\\py36\\lib\\site-packages\\pymysql\\cursors.py:329: Warning: (1062, \"Duplicate entry '2019-02-15 00:00:00-午点-蒸南瓜' for key 'date_food_diet_unique'\")\n",
      "  self._do_get_result()\n",
      "C:\\Anaconda2\\envs\\py36\\lib\\site-packages\\pymysql\\cursors.py:329: Warning: (1062, \"Duplicate entry '2019-02-15 00:00:00-午点-芦柑' for key 'date_food_diet_unique'\")\n",
      "  self._do_get_result()\n",
      "C:\\Anaconda2\\envs\\py36\\lib\\site-packages\\pymysql\\cursors.py:329: Warning: (1062, \"Duplicate entry '2019-02-11 00:00:00-体弱儿营养菜-...' for key 'date_food_diet_unique'\")\n",
      "  self._do_get_result()\n",
      "C:\\Anaconda2\\envs\\py36\\lib\\site-packages\\pymysql\\cursors.py:329: Warning: (1062, \"Duplicate entry '2019-02-12 00:00:00-体弱儿营养菜-...' for key 'date_food_diet_unique'\")\n",
      "  self._do_get_result()\n",
      "C:\\Anaconda2\\envs\\py36\\lib\\site-packages\\pymysql\\cursors.py:329: Warning: (1062, \"Duplicate entry '2019-02-13 00:00:00-体弱儿营养菜-...' for key 'date_food_diet_unique'\")\n",
      "  self._do_get_result()\n",
      "C:\\Anaconda2\\envs\\py36\\lib\\site-packages\\pymysql\\cursors.py:329: Warning: (1062, \"Duplicate entry '2019-02-14 00:00:00-体弱儿营养菜-白煮蛋' for key 'date_food_diet_unique'\")\n",
      "  self._do_get_result()\n",
      "C:\\Anaconda2\\envs\\py36\\lib\\site-packages\\pymysql\\cursors.py:329: Warning: (1062, \"Duplicate entry '2019-02-15 00:00:00-体弱儿营养菜-...' for key 'date_food_diet_unique'\")\n",
      "  self._do_get_result()\n"
     ]
    }
   ],
   "source": [
    "if __name__ == '__main__' and '__file__' not in globals():\n",
    "    log_file = 'bosva_menu.log'\n",
    "    conn = None\n",
    "    try:\n",
    "        conn = db_connect()\n",
    "        log('Database connected', log_file)\n",
    "        new_num_records = to_database(load_html(url), conn)\n",
    "        log(str(new_num_records) + ' records updated.', log_file)\n",
    "    except Exception as e:\n",
    "        log(str(e), log_file)\n",
    "    finally:\n",
    "        if conn:\n",
    "            conn.close()"
   ]
  },
  {
   "cell_type": "code",
   "execution_count": null,
   "metadata": {},
   "outputs": [],
   "source": []
  }
 ],
 "metadata": {
  "kernelspec": {
   "display_name": "Python 3",
   "language": "python",
   "name": "python3"
  },
  "language_info": {
   "codemirror_mode": {
    "name": "ipython",
    "version": 3
   },
   "file_extension": ".py",
   "mimetype": "text/x-python",
   "name": "python",
   "nbconvert_exporter": "python",
   "pygments_lexer": "ipython3",
   "version": "3.6.6"
  },
  "toc": {
   "base_numbering": 1,
   "nav_menu": {},
   "number_sections": true,
   "sideBar": true,
   "skip_h1_title": false,
   "title_cell": "Table of Contents",
   "title_sidebar": "Contents",
   "toc_cell": false,
   "toc_position": {},
   "toc_section_display": true,
   "toc_window_display": false
  },
  "varInspector": {
   "cols": {
    "lenName": "100",
    "lenType": 16,
    "lenVar": "50"
   },
   "kernels_config": {
    "python": {
     "delete_cmd_postfix": "",
     "delete_cmd_prefix": "del ",
     "library": "var_list.py",
     "varRefreshCmd": "print(var_dic_list())"
    },
    "r": {
     "delete_cmd_postfix": ") ",
     "delete_cmd_prefix": "rm(",
     "library": "var_list.r",
     "varRefreshCmd": "cat(var_dic_list()) "
    }
   },
   "types_to_exclude": [
    "module",
    "function",
    "builtin_function_or_method",
    "instance",
    "_Feature"
   ],
   "window_display": false
  }
 },
 "nbformat": 4,
 "nbformat_minor": 2
}
